{
 "cells": [
  {
   "cell_type": "markdown",
   "id": "8103015b-97ed-4dc5-9bbc-fd55e2edf17a",
   "metadata": {},
   "source": [
    "#### (1)- \n",
    "##### API(Application Programming Interface) is a set of defined rules that enable different homogeneous applications (same language and framework) or heterogeneous applications (different language and framework) to communicate with each other. It acts as an intermediary layer that processes data transfers between systems, letting companies open their application data and functionality to external third party developers, business partners and internal departments.\n",
    "##### Example- When we are searching something in google and on clicking the search button, the keyword gets appended to the url and it hits a server which contains some functions, methods, codes etc. It gets executed and the search results pertaining to that keyword are retutned as output. This transferring of request from an application to a server with the necessary codes is done by API."
   ]
  },
  {
   "cell_type": "markdown",
   "id": "11fa20e9-9e9e-4ca3-a098-db3bd0377b9b",
   "metadata": {},
   "source": [
    "#### (2)-\n",
    "#### Advantages of using API are-\n",
    "##### Increased visibility and traffic- With the help of API the data and functionality of the website or app is shared so it increases the visibility of website\n",
    "##### Seamless integration with other applications thus saving time and resources\n",
    "##### Increased efficiency- API allows to access data and functionality without navigating multiple screens. This increases the efficiency of website.\n",
    "##### Easier maintenance- It reduces the workload on back-end making maintenace effortless.\n",
    "##### The code and functionality can be used over multiple applications thus saving resources.\n",
    "#### Disadvantages of using API are-\n",
    "##### Limited functionality- The APIs may not have all the functionality we need requiring some additional development\n",
    "##### Dependent on third party services\n",
    "##### security and privacy risks\n",
    "##### Increased complexity makes them hard for novices."
   ]
  },
  {
   "cell_type": "markdown",
   "id": "8273e7db-ad95-4762-bf2e-0930565c212f",
   "metadata": {},
   "source": [
    "#### (3)-\n",
    "##### Web API is an API that can be accessed over web using HTTP(Hyper Text Transfer Protocol) protocol. It is an open source framework for a web application or web server that communicates between clients and websites for data access.\n",
    "##### API can be created using TCP(Transmission Control Protocol), SMTP(Simple Mail Transfer Protocol), HTTP(Hyper Text Transfer Protocol). They are used for communication/interaction between different applications.\n",
    "##### Web API is a subset of API."
   ]
  },
  {
   "cell_type": "markdown",
   "id": "7c857453-1e1f-4db4-8e7d-e4ef7e26bab1",
   "metadata": {},
   "source": [
    "#### (4)-\n",
    "##### REST(Representational State Transfer) architecture consits of a set of principles for building web services that use HTTP as the communication protocol. Web APIs that follow the REST architectural style are known as RESTful web APIs or RESTful services.\n",
    "##### SOAP(Simple Object Access Protocol) architecture consits of a set of rules for building APIs that use TCP or SMTP protocol. It is an XML(Xtended Markup Language) based messaging protocol for exchanging information among computers.\n",
    "##### Shortcomimgs of SOAP-\n",
    "##### As SOAP can transfer messages as XML files, SOAP API will be less performant because XML is a verbose format as compared to JSON. API calls made will require more bandwidth and it will take more time to process the request and transfer the resonse back.\n",
    "##### In SOAP the client-server communication depends on WSDL(Web Service Description Language) contracts that implies tight coupling.\n",
    "##### SOAP is harder to code and can't be tested in web browser as compared to REST.\n"
   ]
  },
  {
   "cell_type": "markdown",
   "id": "b0dc0f5e-688e-4eea-b0ad-e66cd89c1540",
   "metadata": {},
   "source": [
    "#### (5)-\n",
    "##### Differences between REST and SOAP-\n",
    "##### REST uses HTTP protocol for creating Web APIs. SOAP uses TCP or SMTP protocol for creating APIs.\n",
    "##### REST is less secure as compared to SOAP.\n",
    "##### REST has higher simplicity, scalability, flexibility as compared to SOAP.\n",
    "##### SOAP API transfers data in XML format, but REST API ususally transfers data in JSON format. It is based on URI.\n",
    "##### SOAP works with WSDL where all set of rules are written for creating APIs. REST works with GET, PUT, POST, DELETE.\n",
    "##### SOAP is difficult to implement and requires more bandwidth whereas REST is easy to implement and requires less bandwidth."
   ]
  },
  {
   "cell_type": "code",
   "execution_count": null,
   "id": "3c9701f7-0a21-4858-ad08-8f139bb568d8",
   "metadata": {},
   "outputs": [],
   "source": []
  }
 ],
 "metadata": {
  "kernelspec": {
   "display_name": "Python 3 (ipykernel)",
   "language": "python",
   "name": "python3"
  },
  "language_info": {
   "codemirror_mode": {
    "name": "ipython",
    "version": 3
   },
   "file_extension": ".py",
   "mimetype": "text/x-python",
   "name": "python",
   "nbconvert_exporter": "python",
   "pygments_lexer": "ipython3",
   "version": "3.10.8"
  }
 },
 "nbformat": 4,
 "nbformat_minor": 5
}
